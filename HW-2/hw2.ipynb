{
 "cells": [
  {
   "cell_type": "code",
   "execution_count": 1,
   "metadata": {
    "collapsed": false
   },
   "outputs": [],
   "source": [
    "import numpy as np\n",
    "# import urllib\n",
    "import matplotlib.pyplot as plt\n",
    "import scipy\n",
    "from sklearn.decomposition import PCA\n",
    "from math import log, exp\n",
    "from random import shuffle\n",
    "%matplotlib inline"
   ]
  },
  {
   "cell_type": "code",
   "execution_count": 2,
   "metadata": {
    "collapsed": false
   },
   "outputs": [],
   "source": [
    "# def parseData(fname):\n",
    "#   for l in urllib.urlopen(fname):\n",
    "#     yield eval(l)\n",
    "def load_data(data_shuffle=False, regression=False, bias=True):\n",
    "    print \"Reading data...\"\n",
    "    dataFile = open(\"winequality-white.csv\")\n",
    "    header = dataFile.readline()\n",
    "#     print header\n",
    "    fields = [\"constant\"] + header.strip().replace('\"','').split(';')\n",
    "#     print fields\n",
    "    featureNames = fields[:-1]\n",
    "#     print featureNames\n",
    "    labelName = fields[-1]\n",
    "#     print labelName\n",
    "    if bias:\n",
    "        lines = [[1.0] + [float(x) for x in l.split(';')] for l in dataFile]\n",
    "    else:\n",
    "        lines = [[float(x) for x in l.split(';')] for l in dataFile]        \n",
    "    if data_shuffle:\n",
    "        shuffle(lines)\n",
    "    X = [l[:-1] for l in lines]\n",
    "    if regression:\n",
    "        y = [l[-1] for l in lines]\n",
    "    else:\n",
    "        y = [l[-1] > 5 for l in lines]\n",
    "    print \"done\"\n",
    "    return X, y"
   ]
  },
  {
   "cell_type": "code",
   "execution_count": 3,
   "metadata": {
    "collapsed": false
   },
   "outputs": [],
   "source": [
    "def inner(x,y):\n",
    "    return sum([x[i]*y[i] for i in range(len(x))])\n",
    "\n",
    "def sigmoid(x):\n",
    "    return 1.0 / (1 + exp(-x))\n"
   ]
  },
  {
   "cell_type": "code",
   "execution_count": 4,
   "metadata": {
    "collapsed": true
   },
   "outputs": [],
   "source": [
    "##################################################\n",
    "# Logistic regression by gradient ascent         #\n",
    "##################################################\n",
    "\n",
    "# NEGATIVE Log-likelihood\n",
    "def f(theta, X, y, lam):\n",
    "    loglikelihood = 0\n",
    "    for i in range(len(X)):\n",
    "        logit = inner(X[i], theta)\n",
    "        loglikelihood -= log(1 + exp(-logit))\n",
    "        if not y[i]:\n",
    "            loglikelihood -= logit\n",
    "    for k in range(len(theta)):\n",
    "        loglikelihood -= lam * theta[k]*theta[k]\n",
    "    # for debugging\n",
    "    # print \"ll =\", loglikelihood\n",
    "    return -loglikelihood\n",
    "\n",
    "# NEGATIVE Derivative of log-likelihood\n",
    "def fprime(theta, X, y, lam):\n",
    "    dl = [0]*len(theta)\n",
    "    for i in range(len(X)):\n",
    "        logit = inner(X[i], theta)\n",
    "        for k in range(len(theta)):\n",
    "            dl[k] += X[i][k] * (1 - sigmoid(logit))\n",
    "            if not y[i]:\n",
    "                dl[k] -= X[i][k]\n",
    "    for k in range(len(theta)):\n",
    "        dl[k] -= lam*2*theta[k]\n",
    "    return np.array([-x for x in dl])"
   ]
  },
  {
   "cell_type": "markdown",
   "metadata": {},
   "source": [
    "# Classifier evaluation"
   ]
  },
  {
   "cell_type": "markdown",
   "metadata": {},
   "source": [
    "### 1. Randomly re-shuffle the data, and report the train/validation/test performance for $$\\lambda \\in \\{0, 0.01, 1.0, 100.0\\}$$"
   ]
  },
  {
   "cell_type": "code",
   "execution_count": 5,
   "metadata": {
    "collapsed": false
   },
   "outputs": [
    {
     "name": "stdout",
     "output_type": "stream",
     "text": [
      "Reading data...\n",
      "done\n"
     ]
    }
   ],
   "source": [
    "X, y = load_data(data_shuffle=True)\n",
    "X_train = X[:int(len(X)/3)]\n",
    "y_train = y[:int(len(y)/3)]\n",
    "X_validate = X[int(len(X)/3):int(2*len(X)/3)]\n",
    "y_validate = y[int(len(y)/3):int(2*len(y)/3)]\n",
    "X_test = X[int(2*len(X)/3):]\n",
    "y_test = y[int(2*len(X)/3):]"
   ]
  },
  {
   "cell_type": "code",
   "execution_count": 6,
   "metadata": {
    "collapsed": true
   },
   "outputs": [],
   "source": [
    "##################################################\n",
    "# Train                                          #\n",
    "##################################################\n",
    "\n",
    "def train(lam):\n",
    "    theta,_,_ = scipy.optimize.fmin_l_bfgs_b(f, [0]*len(X[0]), fprime, pgtol = 10, args = (X_train, y_train, lam))\n",
    "    return theta"
   ]
  },
  {
   "cell_type": "code",
   "execution_count": 7,
   "metadata": {
    "collapsed": false
   },
   "outputs": [],
   "source": [
    "##################################################\n",
    "# Predict                                        #\n",
    "##################################################\n",
    "\n",
    "def performance(theta):\n",
    "    scores_train = [inner(theta,x) for x in X_train]\n",
    "    scores_validate = [inner(theta,x) for x in X_validate]\n",
    "    scores_test = [inner(theta,x) for x in X_test]\n",
    "\n",
    "    predictions_train = [s > 0 for s in scores_train]\n",
    "    predictions_validate = [s > 0 for s in scores_validate]\n",
    "    predictions_test = [s > 0 for s in scores_test]\n",
    "\n",
    "    correct_train = [(a==b) for (a,b) in zip(predictions_train,y_train)]\n",
    "    correct_validate = [(a==b) for (a,b) in zip(predictions_validate,y_validate)]\n",
    "    correct_test = [(a==b) for (a,b) in zip(predictions_test,y_test)]\n",
    "\n",
    "    acc_train = sum(correct_train) * 1.0 / len(correct_train)\n",
    "    acc_validate = sum(correct_validate) * 1.0 / len(correct_validate)\n",
    "    acc_test = sum(correct_test) * 1.0 / len(correct_test)\n",
    "    return acc_train, acc_validate, acc_test"
   ]
  },
  {
   "cell_type": "code",
   "execution_count": 8,
   "metadata": {
    "collapsed": false
   },
   "outputs": [
    {
     "name": "stdout",
     "output_type": "stream",
     "text": [
      "lambda = 0;\ttrain=0.744485294118; validate=0.736680955297; test=0.754439681568\n",
      "lambda = 0.01;\ttrain=0.74387254902; validate=0.73790569504; test=0.754439681568\n",
      "lambda = 1.0;\ttrain=0.733455882353; validate=0.728107777097; test=0.736680955297\n",
      "lambda = 100.0;\ttrain=0.675857843137; validate=0.674219228414; test=0.676056338028\n"
     ]
    }
   ],
   "source": [
    "##################################################\n",
    "# Validation pipeline                            #\n",
    "##################################################\n",
    "\n",
    "for lam in [0, 0.01, 1.0, 100.0]:\n",
    "    theta = train(lam)\n",
    "    acc_train, acc_validate, acc_test = performance(theta)\n",
    "    print(\"lambda = \" + str(lam) + \";\\ttrain=\" + str(acc_train) + \"; validate=\" + str(acc_validate) + \"; test=\" + str(acc_test))"
   ]
  },
  {
   "cell_type": "markdown",
   "metadata": {},
   "source": [
    "### 2. Report the number of true positives, true negatives, false positives, false negatives, and the Balanced Error Rate of the classifier"
   ]
  },
  {
   "cell_type": "code",
   "execution_count": 9,
   "metadata": {
    "collapsed": false
   },
   "outputs": [
    {
     "name": "stdout",
     "output_type": "stream",
     "text": [
      "Reading data...\n",
      "done\n"
     ]
    }
   ],
   "source": [
    "X, y = load_data()\n",
    "X_train = X[:int(len(X)/3)]\n",
    "y_train = y[:int(len(y)/3)]\n",
    "X_validate = X[int(len(X)/3):int(2*len(X)/3)]\n",
    "y_validate = y[int(len(y)/3):int(2*len(y)/3)]\n",
    "X_test = X[int(2*len(X)/3):]\n",
    "y_test = y[int(2*len(X)/3):]"
   ]
  },
  {
   "cell_type": "code",
   "execution_count": 10,
   "metadata": {
    "collapsed": false
   },
   "outputs": [],
   "source": [
    "lam = 0.01\n",
    "theta = train(lam)"
   ]
  },
  {
   "cell_type": "code",
   "execution_count": 11,
   "metadata": {
    "collapsed": false
   },
   "outputs": [
    {
     "name": "stdout",
     "output_type": "stream",
     "text": [
      "True Positives =  1129 ,  True Negatives =  145 ,  False Positives =  321 ,  False Negatives =  38\n",
      "Balanced Error Rate =  0.360701663412\n"
     ]
    }
   ],
   "source": [
    "scores_test = [inner(theta, x) for x in X_test]\n",
    "predictions_test = [s>0 for s in scores_test]\n",
    "true_positives = sum([a and b for (a, b) in zip(predictions_test, y_test)])\n",
    "false_positives = sum([a and not b for (a, b) in zip(predictions_test, y_test)])\n",
    "true_negatives = sum([not a and not b for (a, b) in zip(predictions_test, y_test)])\n",
    "false_negatives = sum([not a and b for (a, b) in zip(predictions_test, y_test)])\n",
    "print \"True Positives = \", true_positives, \", \",\n",
    "print \"True Negatives = \", true_negatives, \", \",\n",
    "print \"False Positives = \", false_positives, \", \",\n",
    "print \"False Negatives = \", false_negatives\n",
    "\n",
    "tpr = true_positives * 1.0 / (true_positives + false_negatives)\n",
    "tnr = true_negatives * 1.0 / (true_negatives + false_positives)\n",
    "balanced_error_rate = 1.0 - (tpr + tnr) / 2.0\n",
    "print \"Balanced Error Rate = \", balanced_error_rate"
   ]
  },
  {
   "cell_type": "markdown",
   "metadata": {
    "collapsed": true
   },
   "source": [
    "### 3. By sorting the predictions by con\f",
    "dence, compute the precision and the recall when returning the top 10, 500, and 1000 predictions"
   ]
  },
  {
   "cell_type": "code",
   "execution_count": 12,
   "metadata": {
    "collapsed": false
   },
   "outputs": [
    {
     "name": "stdout",
     "output_type": "stream",
     "text": [
      "When returning top  10  predictions : Precision =  1.0 , Recall =  0.00856898029135\n",
      "When returning top  500  predictions : Precision =  0.956 , Recall =  0.409597257926\n",
      "When returning top  1000  predictions : Precision =  0.864 , Recall =  0.740359897172\n"
     ]
    }
   ],
   "source": [
    "sorted_scores_test, sorted_y_test = (list(t) for t in zip(*sorted(zip(scores_test, y_test), reverse=True)))\n",
    "topK = [10, 500, 1000]\n",
    "for k in topK:\n",
    "    total_relevant = sum(sorted_y_test) * 1.0\n",
    "    total_returned = k * 1.0\n",
    "    total_relevant_returned = sum(sorted_y_test[:k]) * 1.0\n",
    "    precision = total_relevant_returned / total_returned\n",
    "    recall = total_relevant_returned / total_relevant\n",
    "    print \"When returning top \", k, \" predictions : Precision = \", precision, \", Recall = \", recall"
   ]
  },
  {
   "cell_type": "markdown",
   "metadata": {},
   "source": [
    "### 4. Precision vs Recall plot"
   ]
  },
  {
   "cell_type": "code",
   "execution_count": 13,
   "metadata": {
    "collapsed": false
   },
   "outputs": [
    {
     "data": {
      "text/plain": [
       "<matplotlib.text.Text at 0xb0c0898>"
      ]
     },
     "execution_count": 13,
     "metadata": {},
     "output_type": "execute_result"
    },
    {
     "data": {
      "image/png": "[encoded data removed]",
      "text/plain": [
       "<matplotlib.figure.Figure at 0x3d119e8>"
      ]
     },
     "metadata": {},
     "output_type": "display_data"
    }
   ],
   "source": [
    "precision_list = []\n",
    "recall_list = []\n",
    "for k in range(1, len(y_test)):\n",
    "    total_relevant = sum(sorted_y_test) * 1.0\n",
    "    total_returned = k * 1.0\n",
    "    total_relevant_returned = sum(sorted_y_test[:k]) * 1.0\n",
    "    precision = total_relevant_returned / total_returned\n",
    "    recall = total_relevant_returned / total_relevant\n",
    "    precision_list.append(precision)\n",
    "    recall_list.append(recall)\n",
    "#     print \"When returning Top \", k, \" predictions : Precision = \", precision, \", Recall = \", recall\n",
    "plt.plot(recall_list, precision_list)\n",
    "plt.xlabel('Recall')\n",
    "plt.ylabel('Precision')\n",
    "plt.title('Precision vs Recall as the number of results increase')\n",
    "# print recall_list[-10:]"
   ]
  },
  {
   "cell_type": "markdown",
   "metadata": {},
   "source": [
    "# Dimensionality Reduction"
   ]
  },
  {
   "cell_type": "markdown",
   "metadata": {},
   "source": [
    "### 5. Reconstruction error when the data is compressed using the mean"
   ]
  },
  {
   "cell_type": "code",
   "execution_count": 14,
   "metadata": {
    "collapsed": false
   },
   "outputs": [
    {
     "name": "stdout",
     "output_type": "stream",
     "text": [
      "Reconstruction error when the data is compressed using the mean =  3675818.61688\n"
     ]
    }
   ],
   "source": [
    "err = np.array(X_train) - np.mean(X_train, axis=0)\n",
    "# print err.shape\n",
    "print \"Reconstruction error when the data is compressed using the mean = \", np.sum(err ** 2)"
   ]
  },
  {
   "cell_type": "markdown",
   "metadata": {},
   "source": [
    "### 6. PCA components"
   ]
  },
  {
   "cell_type": "code",
   "execution_count": 15,
   "metadata": {
    "collapsed": false
   },
   "outputs": [
    {
     "name": "stdout",
     "output_type": "stream",
     "text": [
      "PCA components = \n",
      "[[ -3.23636346e-04   1.42201752e-04   3.17030713e-04   5.36390435e-02\n",
      "    9.30284526e-05   2.54030965e-01   9.65655009e-01   3.19990241e-05\n",
      "   -2.95831396e-04   3.84043646e-04  -1.00526693e-02]\n",
      " [ -7.57985623e-03  -1.66366340e-03   1.04742899e-03   5.21677266e-02\n",
      "    4.49425600e-05   9.65020304e-01  -2.56793964e-01   7.90089050e-06\n",
      "    5.24900596e-04  -1.09699394e-03  -2.89827657e-03]\n",
      " [  1.82124420e-02   2.54680710e-03   3.31838657e-03   9.93221259e-01\n",
      "   -1.51888372e-04  -6.42297821e-02  -3.91682592e-02   4.30929482e-04\n",
      "   -6.93199060e-03  -2.85216045e-03  -8.62920933e-02]\n",
      " [  1.56811999e-01   3.28220652e-03   1.66866136e-02   8.28549640e-02\n",
      "   -6.91822288e-03   1.13029682e-03   5.39110108e-03  -9.49080503e-04\n",
      "    2.68027305e-03   1.30498102e-03   9.83955205e-01]\n",
      " [  9.81360642e-01  -1.45890108e-02   5.92643662e-02  -3.17546064e-02\n",
      "    5.07483182e-04   8.43759364e-03  -1.77578042e-03   6.03725221e-04\n",
      "   -9.05011239e-02  -9.35630845e-03  -1.54417839e-01]\n",
      " [  7.76578401e-02  -2.37665885e-01   2.23406619e-02   5.04113878e-03\n",
      "   -1.43564098e-02  -2.14210997e-04  -2.22913844e-04   3.36617054e-03\n",
      "    8.77254205e-01   4.08570175e-01  -1.54145486e-02]\n",
      " [ -7.36289612e-02  -2.61563804e-01   9.43067566e-01  -2.14514264e-03\n",
      "    1.19104298e-02  -1.68808905e-03   1.42294158e-04  -1.17203197e-04\n",
      "   -1.45895558e-01   1.23868963e-01  -2.88797236e-03]\n",
      " [ -1.37617196e-02   2.11129619e-01  -1.16514121e-01   5.30670319e-04\n",
      "    1.05181628e-02   1.36446528e-03  -8.21179429e-04   3.09221855e-04\n",
      "   -3.58358431e-01   9.01728510e-01   3.27758247e-03]\n",
      " [  1.74575775e-02   9.10890084e-01   3.04081497e-01  -2.89763923e-03\n",
      "    2.34615054e-02   1.17406025e-03  -3.85957239e-04   1.23176271e-03\n",
      "    2.68927937e-01  -6.70756658e-02  -1.12101920e-02]\n",
      " [  2.31513441e-03  -2.38717789e-02  -1.67445603e-02   8.92206499e-04\n",
      "    9.99462734e-01  -9.81109101e-05  -3.32812875e-05   4.14235255e-03\n",
      "    1.18483756e-02  -3.51543098e-03   6.92344110e-03]\n",
      " [  7.48312160e-04   3.08204153e-04   2.55232500e-04   3.49846801e-04\n",
      "    4.12943179e-03  -6.96565372e-06   4.16951216e-06  -9.99984215e-01\n",
      "    3.17948604e-03   1.53436134e-03  -1.10029138e-03]]\n"
     ]
    }
   ],
   "source": [
    "pca = PCA()\n",
    "pca.fit([arr[1:] for arr in X_train])\n",
    "print \"PCA components = \\n\", pca.components_"
   ]
  },
  {
   "cell_type": "markdown",
   "metadata": {},
   "source": [
    "### 7. Reconstruction error using just four PCA dimensions"
   ]
  },
  {
   "cell_type": "code",
   "execution_count": 16,
   "metadata": {
    "collapsed": false
   },
   "outputs": [
    {
     "name": "stdout",
     "output_type": "stream",
     "text": [
      "Reconstruction error using 4 principal components =  1345.4755741\n"
     ]
    }
   ],
   "source": [
    "x_transformed = np.dot(pca.components_[4:], np.array([arr[1:] for arr in X_train]).T)\n",
    "err = x_transformed.T - np.mean(x_transformed, axis=1)\n",
    "print \"Reconstruction error using 4 principal components = \", np.sum(err ** 2)"
   ]
  },
  {
   "cell_type": "markdown",
   "metadata": {},
   "source": [
    "\n",
    "### 8.Regression : Change in MSE (on the train and test sets) as the number of dimensions increase "
   ]
  },
  {
   "cell_type": "code",
   "execution_count": 17,
   "metadata": {
    "collapsed": false
   },
   "outputs": [
    {
     "name": "stdout",
     "output_type": "stream",
     "text": [
      "Reading data...\n",
      "done\n"
     ]
    }
   ],
   "source": [
    "X, y = load_data(regression=True, bias=False)\n",
    "X_train = X[:int(len(X)/3)]\n",
    "y_train = y[:int(len(y)/3)]\n",
    "X_validate = X[int(len(X)/3):int(2*len(X)/3)]\n",
    "y_validate = y[int(len(y)/3):int(2*len(y)/3)]\n",
    "X_test = X[int(2*len(X)/3):]\n",
    "y_test = y[int(2*len(X)/3):]"
   ]
  },
  {
   "cell_type": "code",
   "execution_count": 18,
   "metadata": {
    "collapsed": false
   },
   "outputs": [],
   "source": [
    "train_mse_list = []\n",
    "test_mse_list = []\n",
    "for k in range(pca.components_.shape[0]):\n",
    "    feat = np.dot(pca.components_[:k+1], np.array(X_train).T)\n",
    "    feat = np.insert(feat, 0, 1, axis=0).T.tolist()\n",
    "#     print feat[:5]\n",
    "#     print y_train[:5]\n",
    "    theta, residuals, rank, s = np.linalg.lstsq(feat, y_train)\n",
    "    train_mse = residuals[0] / len(y_train)\n",
    "#     print theta\n",
    "#     print X_test\n",
    "    feat_test = np.dot(pca.components_[:k+1], np.array(X_test).T)\n",
    "    feat_test = np.insert(feat_test, 0, 1, axis=0)\n",
    "#     print theta[:, None].shape, feat_test.shape, np.array(y_test)[:, None].shape\n",
    "    test_error = np.dot(feat_test.T, theta[:, None]) - np.array(y_test)[:, None]\n",
    "#     print test_error.shape\n",
    "    test_mse = np.sum(test_error * test_error) / (len(y_test) * 1.0)\n",
    "    train_mse_list.append(train_mse)\n",
    "    test_mse_list.append(test_mse)"
   ]
  },
  {
   "cell_type": "code",
   "execution_count": 19,
   "metadata": {
    "collapsed": false
   },
   "outputs": [
    {
     "name": "stdout",
     "output_type": "stream",
     "text": [
      "Train MSE for different number of dimensions used =  [0.86384243973592412, 0.84466943185576049, 0.82751611558520066, 0.69738327887529117, 0.68550155987923866, 0.66085398898732706, 0.65919451154521691, 0.6584860246102584, 0.63685661427823215, 0.6346878191481542, 0.61721175854356591]\n"
     ]
    },
    {
     "data": {
      "image/png": "[encoded data removed]",
      "text/plain": [
       "<matplotlib.figure.Figure at 0xa426438>"
      ]
     },
     "metadata": {},
     "output_type": "display_data"
    }
   ],
   "source": [
    "print \"Train MSE for different number of dimensions used = \", train_mse_list\n",
    "plt.plot(range(1, len(train_mse_list)+1), train_mse_list)\n",
    "plt.title('Train MSE vs Number of dimensions used')\n",
    "plt.xlabel('Number of dimensions')\n",
    "plt.ylabel('Train MSE')\n",
    "plt.xlim(1, len(train_mse_list))\n",
    "plt.show()"
   ]
  },
  {
   "cell_type": "code",
   "execution_count": 20,
   "metadata": {
    "collapsed": false
   },
   "outputs": [
    {
     "name": "stdout",
     "output_type": "stream",
     "text": [
      "Test MSE for different number of dimensions used =  [0.66348348996669582, 0.65558749316693776, 0.67835915193077889, 0.59909062198091823, 0.62319815648296362, 0.60387838007105243, 0.59727995924896626, 0.59450622441184542, 0.55550509614578014, 0.55620192020639936, 0.56887177280483969]\n"
     ]
    },
    {
     "data": {
      "image/png": "[encoded data removed]",
      "text/plain": [
       "<matplotlib.figure.Figure at 0xb5bef98>"
      ]
     },
     "metadata": {},
     "output_type": "display_data"
    }
   ],
   "source": [
    "print \"Test MSE for different number of dimensions used = \", test_mse_list\n",
    "plt.plot(range(1, len(test_mse_list)+1),test_mse_list)\n",
    "plt.title('Test MSE vs Number of dimensions used')\n",
    "plt.xlabel('Number of dimensions')\n",
    "plt.xlim(1, len(test_mse_list))\n",
    "plt.ylabel('Test MSE')\n",
    "plt.show()"
   ]
  }
 ],
 "metadata": {
  "anaconda-cloud": {},
  "kernelspec": {
   "display_name": "Python [Root]",
   "language": "python",
   "name": "Python [Root]"
  },
  "language_info": {
   "codemirror_mode": {
    "name": "ipython",
    "version": 2
   },
   "file_extension": ".py",
   "mimetype": "text/x-python",
   "name": "python",
   "nbconvert_exporter": "python",
   "pygments_lexer": "ipython2",
   "version": "2.7.13"
  }
 },
 "nbformat": 4,
 "nbformat_minor": 0
}
