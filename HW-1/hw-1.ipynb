{
 "cells": [
  {
   "cell_type": "code",
   "execution_count": 1,
   "metadata": {
    "collapsed": false
   },
   "outputs": [],
   "source": [
    "import numpy as np\n",
    "import pandas as pd\n",
    "import scipy.optimize\n",
    "import urllib\n",
    "import random\n",
    "%matplotlib inline\n",
    "import matplotlib.pyplot as plt\n",
    "from sklearn.preprocessing import OneHotEncoder\n",
    "from sklearn import svm\n",
    "from sklearn.metrics import accuracy_score"
   ]
  },
  {
   "cell_type": "code",
   "execution_count": 2,
   "metadata": {
    "collapsed": false
   },
   "outputs": [
    {
     "name": "stdout",
     "output_type": "stream",
     "text": [
      "Reading data...\n",
      "done\n"
     ]
    }
   ],
   "source": [
    "def parseData(fname):\n",
    "    for l in urllib.urlopen(fname):\n",
    "        yield eval(l)    # yield : Iterators vs Generators, eval : Read the line as though it is a native object\n",
    "        \n",
    "print \"Reading data...\"\n",
    "data = list(parseData('beer_50000.json'))\n",
    "print \"done\""
   ]
  },
  {
   "cell_type": "code",
   "execution_count": 3,
   "metadata": {
    "collapsed": false
   },
   "outputs": [
    {
     "data": {
      "text/plain": [
       "{'beer/ABV': 5.0,\n",
       " 'beer/beerId': '47986',\n",
       " 'beer/brewerId': '10325',\n",
       " 'beer/name': 'Sausa Weizen',\n",
       " 'beer/style': 'Hefeweizen',\n",
       " 'review/appearance': 2.5,\n",
       " 'review/aroma': 2.0,\n",
       " 'review/overall': 1.5,\n",
       " 'review/palate': 1.5,\n",
       " 'review/taste': 1.5,\n",
       " 'review/text': 'A lot of foam. But a lot.\\tIn the smell some banana, and then lactic and tart. Not a good start.\\tQuite dark orange in color, with a lively carbonation (now visible, under the foam).\\tAgain tending to lactic sourness.\\tSame for the taste. With some yeast and banana.',\n",
       " 'review/timeStruct': {'hour': 20,\n",
       "  'isdst': 0,\n",
       "  'mday': 16,\n",
       "  'min': 57,\n",
       "  'mon': 2,\n",
       "  'sec': 3,\n",
       "  'wday': 0,\n",
       "  'yday': 47,\n",
       "  'year': 2009},\n",
       " 'review/timeUnix': 1234817823,\n",
       " 'user/profileName': 'stcules'}"
      ]
     },
     "execution_count": 3,
     "metadata": {},
     "output_type": "execute_result"
    }
   ],
   "source": [
    "data[0]"
   ]
  },
  {
   "cell_type": "markdown",
   "metadata": {},
   "source": [
    "## 1. Simple predictor using *year* as the feature"
   ]
  },
  {
   "cell_type": "code",
   "execution_count": 4,
   "metadata": {
    "collapsed": true
   },
   "outputs": [],
   "source": [
    "def feature(datum):\n",
    "    feat = [1, datum['review/timeStruct']['year']]\n",
    "    return feat"
   ]
  },
  {
   "cell_type": "code",
   "execution_count": 5,
   "metadata": {
    "collapsed": false
   },
   "outputs": [
    {
     "name": "stdout",
     "output_type": "stream",
     "text": [
      "Max year =  2012 ; Min Year =  1999\n"
     ]
    },
    {
     "data": {
      "text/plain": [
       "<matplotlib.collections.PathCollection at 0x19f734e0>"
      ]
     },
     "execution_count": 5,
     "metadata": {},
     "output_type": "execute_result"
    },
    {
     "data": {
      "image/png": "[encoded data removed]",
      "text/plain": [
       "<matplotlib.figure.Figure at 0xbf655f8>"
      ]
     },
     "metadata": {},
     "output_type": "display_data"
    }
   ],
   "source": [
    "X = [feature(d) for d in data]\n",
    "yr = [d['review/timeStruct']['year'] for d in data]\n",
    "# print X[:10]\n",
    "y = [d['review/overall'] for d in data]\n",
    "# print y[:10]\n",
    "maxyr = max(yr)\n",
    "minyr = min(yr)\n",
    "print \"Max year = \", maxyr, \"; Min Year = \", minyr\n",
    "plt.scatter(yr, y, alpha=0.005)"
   ]
  },
  {
   "cell_type": "code",
   "execution_count": 6,
   "metadata": {
    "collapsed": false
   },
   "outputs": [],
   "source": [
    "theta, residuals, rank, s = np.linalg.lstsq(X, y)"
   ]
  },
  {
   "cell_type": "code",
   "execution_count": 7,
   "metadata": {
    "collapsed": false
   },
   "outputs": [
    {
     "name": "stdout",
     "output_type": "stream",
     "text": [
      "[ -3.91707489e+01   2.14379786e-02]\n",
      "[ 0.49004382]\n"
     ]
    }
   ],
   "source": [
    "print theta\n",
    "print (residuals / len(y)) # MSE"
   ]
  },
  {
   "cell_type": "markdown",
   "metadata": {},
   "source": [
    "## 2. Better representation of *year* variable using One-Hot encoding\n",
    "\n",
    "$$quality = \\theta_0 + \\sum_{i = 1}^{13} \\theta_i \\times I(1999+i-1, year)$$\n",
    "where I is the indicator function"
   ]
  },
  {
   "cell_type": "code",
   "execution_count": 8,
   "metadata": {
    "collapsed": false
   },
   "outputs": [],
   "source": [
    "def feature2(datum):\n",
    "    feat = [0]*(maxyr-minyr+1) # Taking 13 years for one-hot instead of 14 to remove redundant feature + bias\n",
    "    feat[0] = 1\n",
    "    year = datum['review/timeStruct']['year']\n",
    "    if year != maxyr:\n",
    "        feat[year-minyr+1] = 1    \n",
    "    return feat "
   ]
  },
  {
   "cell_type": "code",
   "execution_count": 9,
   "metadata": {
    "collapsed": false
   },
   "outputs": [
    {
     "data": {
      "text/plain": [
       "[[1, 0, 0, 0, 0, 0, 0, 0, 0, 0, 0, 1, 0, 0],\n",
       " [1, 0, 0, 0, 0, 0, 0, 0, 0, 0, 0, 1, 0, 0],\n",
       " [1, 0, 0, 0, 0, 0, 0, 0, 0, 0, 0, 1, 0, 0],\n",
       " [1, 0, 0, 0, 0, 0, 0, 0, 0, 0, 0, 1, 0, 0],\n",
       " [1, 0, 0, 0, 0, 0, 0, 0, 0, 0, 0, 0, 1, 0],\n",
       " [1, 0, 0, 0, 0, 0, 0, 0, 0, 0, 0, 0, 0, 0],\n",
       " [1, 0, 0, 0, 0, 0, 0, 0, 0, 0, 0, 0, 0, 1],\n",
       " [1, 0, 0, 0, 0, 0, 0, 0, 0, 0, 0, 0, 0, 1],\n",
       " [1, 0, 0, 0, 0, 0, 0, 0, 0, 0, 0, 0, 1, 0],\n",
       " [1, 0, 0, 0, 0, 0, 0, 0, 0, 0, 0, 0, 1, 0]]"
      ]
     },
     "execution_count": 9,
     "metadata": {},
     "output_type": "execute_result"
    }
   ],
   "source": [
    "X = [feature2(d) for d in data]\n",
    "X[:10]"
   ]
  },
  {
   "cell_type": "code",
   "execution_count": 10,
   "metadata": {
    "collapsed": false
   },
   "outputs": [
    {
     "name": "stdout",
     "output_type": "stream",
     "text": [
      "[ 4.05154639  0.04845361  0.26663543  0.2247694  -0.29273378 -0.33610958\n",
      " -0.29110335 -0.19133134 -0.24438704 -0.20546893 -0.16067206 -0.1301398\n",
      " -0.15473656 -0.11142557]\n",
      "MSE =  [ 0.4891519]\n"
     ]
    }
   ],
   "source": [
    "theta, residuals, rank, s = np.linalg.lstsq(X, y)\n",
    "print theta\n",
    "print \"MSE = \", (residuals / len(y))"
   ]
  },
  {
   "cell_type": "markdown",
   "metadata": {},
   "source": [
    "We see very little improvement in the MSE showing that year is not a good feature after all"
   ]
  },
  {
   "cell_type": "markdown",
   "metadata": {},
   "source": [
    "## 3. Linear Regression on Wine Quality dataset"
   ]
  },
  {
   "cell_type": "code",
   "execution_count": 11,
   "metadata": {
    "collapsed": true
   },
   "outputs": [],
   "source": [
    "import pandas as pd"
   ]
  },
  {
   "cell_type": "code",
   "execution_count": 12,
   "metadata": {
    "collapsed": false
   },
   "outputs": [
    {
     "name": "stdout",
     "output_type": "stream",
     "text": [
      "(4898L,) (4898L, 12L)\n"
     ]
    }
   ],
   "source": [
    "wineFeatures = pd.read_csv('winequality-white.csv', delimiter=';')\n",
    "wineQuality = wineFeatures['quality']\n",
    "del wineFeatures['quality']\n",
    "X = wineFeatures.values\n",
    "y = wineQuality.values\n",
    "X = np.insert(X, 0, 1, axis=1)\n",
    "print y.shape, X.shape"
   ]
  },
  {
   "cell_type": "code",
   "execution_count": 13,
   "metadata": {
    "collapsed": false
   },
   "outputs": [
    {
     "name": "stdout",
     "output_type": "stream",
     "text": [
      "(2449L, 12L) (2449L, 12L)\n"
     ]
    }
   ],
   "source": [
    "X_train = X[:len(X)/2, :]\n",
    "y_train = y[:len(y)/2]\n",
    "X_test = X[len(X)/2:, :]\n",
    "y_test = y[len(y)/2:]\n",
    "print X_train.shape, X_test.shape\n"
   ]
  },
  {
   "cell_type": "code",
   "execution_count": 14,
   "metadata": {
    "collapsed": false
   },
   "outputs": [
    {
     "name": "stdout",
     "output_type": "stream",
     "text": [
      "[  2.56420279e+02   1.35421303e-01  -1.72994866e+00   1.02651152e-01\n",
      "   1.09038568e-01  -2.76775146e-01   6.34332168e-03   3.85023977e-05\n",
      "  -2.58652809e+02   1.19540566e+00   8.33006285e-01   9.79304353e-02]\n"
     ]
    }
   ],
   "source": [
    "theta, residuals, rank, s = np.linalg.lstsq(X_train, y_train)\n",
    "print theta\n",
    "# print \"Residuals = \", residuals\n",
    "# print \"MSE = \", residuals / len(y_train)"
   ]
  },
  {
   "cell_type": "code",
   "execution_count": 15,
   "metadata": {
    "collapsed": false
   },
   "outputs": [
    {
     "name": "stdout",
     "output_type": "stream",
     "text": [
      "Train Residuals =  1475.05107461\n",
      "Train MSE =  0.602307502903\n"
     ]
    }
   ],
   "source": [
    "train_err = np.dot(X_train, theta) - y_train\n",
    "train_residual = np.sum(train_err * train_err)\n",
    "print \"Train Residuals = \", train_residual\n",
    "print \"Train MSE = \", train_residual / len(y_train)"
   ]
  },
  {
   "cell_type": "code",
   "execution_count": 16,
   "metadata": {
    "collapsed": false
   },
   "outputs": [
    {
     "name": "stdout",
     "output_type": "stream",
     "text": [
      "Test Residuals =  1377.45751214\n",
      "Test MSE =  0.562457130315\n"
     ]
    }
   ],
   "source": [
    "test_err = np.dot(X_test, theta) - y_test\n",
    "test_residual = np.sum(test_err * test_err)\n",
    "test_MSE = test_residual / len(y_test)\n",
    "print \"Test Residuals = \", test_residual\n",
    "print \"Test MSE = \", test_MSE"
   ]
  },
  {
   "cell_type": "markdown",
   "metadata": {},
   "source": [
    "## 4. Ablation Experiment"
   ]
  },
  {
   "cell_type": "code",
   "execution_count": 17,
   "metadata": {
    "collapsed": false
   },
   "outputs": [
    {
     "name": "stdout",
     "output_type": "stream",
     "text": [
      "Test MSE on 11 ablation experiments =  [0.55911341437608786, 0.59638485016143639, 0.56222170281154904, 0.55362506396744138, 0.56262926648136313, 0.55614081792992287, 0.56242900546923902, 0.54472655346614773, 0.55956662638195509, 0.55734634998788901, 0.57321474355831814]\n"
     ]
    }
   ],
   "source": [
    "test_mse = []\n",
    "for i in list(wineFeatures):\n",
    "    df = wineFeatures.copy()\n",
    "    del df[i]\n",
    "    X = df.values\n",
    "    X = np.insert(X, 0, 1, axis=1)\n",
    "    X_train = X[:len(X)/2, :]\n",
    "    X_test = X[len(X)/2:, :]\n",
    "    theta, residuals, rank, s = np.linalg.lstsq(X_train, y_train)\n",
    "#     print \"Train MSE for \", i, \" = \", residuals / len(y_train)\n",
    "    test_err = np.dot(X_test, theta) - y_test\n",
    "    test_residual = np.sum(test_err * test_err)\n",
    "#     print \"Test MSE for \", i, \" = \", test_residual / len(y_test)\n",
    "    test_mse.append(test_residual / len(y_test))\n",
    "print \"Test MSE on 11 ablation experiments = \", test_mse "
   ]
  },
  {
   "cell_type": "code",
   "execution_count": 18,
   "metadata": {
    "collapsed": false
   },
   "outputs": [
    {
     "name": "stdout",
     "output_type": "stream",
     "text": [
      "['fixed acidity', 'volatile acidity', 'citric acid', 'residual sugar', 'chlorides', 'free sulfur dioxide', 'total sulfur dioxide', 'density', 'pH', 'sulphates', 'alcohol']\n"
     ]
    },
    {
     "data": {
      "image/png": "[encoded data removed]",
      "text/plain": [
       "<matplotlib.figure.Figure at 0x1a091438>"
      ]
     },
     "metadata": {},
     "output_type": "display_data"
    }
   ],
   "source": [
    "x =  range(len(list(wineFeatures)))\n",
    "plt.xticks(x, [s[:4] for s in list(wineFeatures)])\n",
    "plt.ylabel(\"Test MSE\")\n",
    "plt.plot(x, test_mse, label=\"Test MSE for ablations\")\n",
    "plt.plot(x, test_residual / len(y_test) * np.ones(len(x)), label=\"Test MSE with all features\")\n",
    "plt.legend(bbox_to_anchor=(1.05, 1), loc=2, borderaxespad=0.)\n",
    "print list(wineFeatures)\n",
    "# print (test_mse - test_MSE)"
   ]
  },
  {
   "cell_type": "markdown",
   "metadata": {
    "collapsed": true
   },
   "source": [
    "Clearly the most additional information is given by **volatile acidity** feature and the least additional information is given by **density** feature"
   ]
  },
  {
   "cell_type": "markdown",
   "metadata": {},
   "source": [
    "## 5. Classification using SVM"
   ]
  },
  {
   "cell_type": "code",
   "execution_count": 19,
   "metadata": {
    "collapsed": false
   },
   "outputs": [
    {
     "name": "stdout",
     "output_type": "stream",
     "text": [
      "[6 6 6 6 6 6 6 6 6 6 5 5 5 7 5 7 6 8 6 5]\n",
      "[1 1 1 1 1 1 1 1 1 1 0 0 0 1 0 1 1 1 1 0]\n"
     ]
    }
   ],
   "source": [
    "wineFeatures = pd.read_csv('winequality-white.csv', delimiter=';')\n",
    "y = wineFeatures['quality'].values\n",
    "del wineFeatures['quality']\n",
    "X = wineFeatures.values\n",
    "X = np.insert(X, 0, 1, axis=1)\n",
    "print y[:20]\n",
    "y = np.array([0 if x <= 5 else 1 for x in y])\n",
    "print y[:20]"
   ]
  },
  {
   "cell_type": "code",
   "execution_count": 20,
   "metadata": {
    "collapsed": true
   },
   "outputs": [],
   "source": [
    "n_train = len(y) / 2 \n",
    "X_train = X[:n_train, :]\n",
    "y_train = y[:n_train]\n",
    "X_test = X[n_train:, :]\n",
    "y_test = y[n_train:]"
   ]
  },
  {
   "cell_type": "code",
   "execution_count": 21,
   "metadata": {
    "collapsed": false
   },
   "outputs": [
    {
     "data": {
      "text/plain": [
       "SVC(C=1, cache_size=200, class_weight=None, coef0=0.0,\n",
       "  decision_function_shape=None, degree=3, gamma='auto', kernel='rbf',\n",
       "  max_iter=-1, probability=False, random_state=None, shrinking=True,\n",
       "  tol=0.001, verbose=False)"
      ]
     },
     "execution_count": 21,
     "metadata": {},
     "output_type": "execute_result"
    }
   ],
   "source": [
    "clf = svm.SVC(C=1)\n",
    "clf.fit(X_train, y_train)"
   ]
  },
  {
   "cell_type": "code",
   "execution_count": 22,
   "metadata": {
    "collapsed": false
   },
   "outputs": [
    {
     "name": "stdout",
     "output_type": "stream",
     "text": [
      "Training accuracy =  0.912209064924\n",
      "Testing accuracy =  0.690077582687\n"
     ]
    }
   ],
   "source": [
    "train_pred = clf.predict(X_train)\n",
    "test_pred = clf.predict(X_test)\n",
    "acc_train = accuracy_score(y_train, train_pred)\n",
    "acc_test = accuracy_score(y_test, test_pred)\n",
    "print \"Training accuracy = \", acc_train\n",
    "print \"Testing accuracy = \", acc_test"
   ]
  },
  {
   "cell_type": "markdown",
   "metadata": {},
   "source": [
    "## 6. Classification using Logistic Regression"
   ]
  },
  {
   "cell_type": "code",
   "execution_count": 23,
   "metadata": {
    "collapsed": true
   },
   "outputs": [],
   "source": [
    "def inner(x,y):\n",
    "    return sum([x[i]*y[i] for i in range(len(x))])\n",
    "\n",
    "def sigmoid(x):\n",
    "    return 1.0 / (1 + np.exp(-x))\n",
    "\n",
    "# NEGATIVE Log-likelihood\n",
    "def f(theta, X, y, lam):\n",
    "    loglikelihood = 0\n",
    "    for i in range(len(X)):\n",
    "        logit = inner(X[i], theta)\n",
    "        loglikelihood -= np.log(1 + np.exp(-logit))\n",
    "        if not y[i]:\n",
    "            loglikelihood -= logit\n",
    "    for k in range(len(theta)):\n",
    "        loglikelihood -= lam * theta[k]*theta[k]\n",
    "#     print \"ll =\", loglikelihood\n",
    "    return -loglikelihood\n",
    "\n",
    "# NEGATIVE Derivative of log-likelihood\n",
    "def fprime(theta, X, y, lam):\n",
    "    dl = [0.0]*len(theta)\n",
    "    for i in range(len(X)):\n",
    "        # Fill in code for the derivative\n",
    "        logit = inner(X[i], theta)\n",
    "        dl += (y[i] - sigmoid(logit)) * X[i]\n",
    "    dl -= 2 * lam * theta\n",
    "    # Negate the return value since we're doing gradient *ascent*\n",
    "    return np.array([-x for x in dl])"
   ]
  },
  {
   "cell_type": "code",
   "execution_count": 24,
   "metadata": {
    "collapsed": true
   },
   "outputs": [],
   "source": [
    "X_train = X[:len(X)/2]\n",
    "X_test = X[len(X)/2:]\n",
    "y_train = y[:len(X)/2]\n",
    "y_test = y[len(X)/2:]\n",
    "# If we wanted to split with a validation set:\n",
    "X_valid = X[len(X)/2:3*len(X)/4]\n",
    "X_test = X[3*len(X)/4:]\n",
    "y_valid = y[len(X)/2:3*len(X)/4]\n",
    "y_test = y[3*len(X)/4:]"
   ]
  },
  {
   "cell_type": "code",
   "execution_count": 25,
   "metadata": {
    "collapsed": true
   },
   "outputs": [],
   "source": [
    "def ypred(y):\n",
    "    return np.around(y)"
   ]
  },
  {
   "cell_type": "code",
   "execution_count": 26,
   "metadata": {
    "collapsed": false
   },
   "outputs": [
    {
     "name": "stdout",
     "output_type": "stream",
     "text": [
      "Final log likelihood for lambda  0.01  =  -1332.41038895\n",
      "Accuracy for lambda  0.01  =  0.774509803922\n",
      "Final log likelihood for lambda  0.1  =  -1340.7840153\n",
      "Accuracy for lambda  0.1  =  0.77614379085\n",
      "Final log likelihood for lambda  1  =  -1383.18368068\n",
      "Accuracy for lambda  1  =  0.785130718954\n",
      "Final log likelihood for lambda  10  =  -1458.42477232\n",
      "Accuracy for lambda  10  =  0.755718954248\n",
      "Final log likelihood for lambda  100  =  -1513.81835147\n",
      "Accuracy for lambda  100  =  0.727124183007\n",
      "Final log likelihood for lambda  1000  =  -1556.97818021\n",
      "Accuracy for lambda  1000  =  0.71160130719\n",
      "Optimal lambda =  1\n"
     ]
    }
   ],
   "source": [
    "lamSet = [0.01, 0.1, 1, 10, 100, 1000]\n",
    "max_accuracy = -100\n",
    "opt_lam = 1\n",
    "for lam in lamSet:\n",
    "    theta,l,info = scipy.optimize.fmin_l_bfgs_b(f, [0]*len(X[0]), fprime, args = (X_train, y_train, lam))\n",
    "    print \"Final log likelihood for lambda \" , lam, \" = \", -l\n",
    "    accuracy = accuracy_score(y_valid, ypred(sigmoid(np.dot(X_valid, theta))))\n",
    "    print \"Accuracy for lambda \" , lam, \" = \", accuracy\n",
    "    if(accuracy > max_accuracy):\n",
    "        max_accuracy = accuracy\n",
    "        opt_lam = lam\n",
    "print \"Optimal lambda = \", opt_lam"
   ]
  },
  {
   "cell_type": "code",
   "execution_count": 27,
   "metadata": {
    "collapsed": false
   },
   "outputs": [
    {
     "name": "stdout",
     "output_type": "stream",
     "text": [
      "Final log likelihood = -1383.18368068\n",
      "Accuracy =  0.748571428571\n"
     ]
    }
   ],
   "source": [
    "theta,l,info = scipy.optimize.fmin_l_bfgs_b(f, [0]*len(X[0]), fprime, args = (X_train, y_train, opt_lam))\n",
    "print \"Final log likelihood =\", -l\n",
    "accuracy = accuracy_score(y_test, ypred(sigmoid(np.dot(X_test, theta))))\n",
    "print \"Accuracy = \" , accuracy"
   ]
  },
  {
   "cell_type": "code",
   "execution_count": 28,
   "metadata": {
    "collapsed": false
   },
   "outputs": [],
   "source": [
    "# y_pred_vec = []\n",
    "# for i in range(len(X_test)):\n",
    "#     logit = inner(X_test[i], theta)\n",
    "#     y_pred = sigmoid(logit)\n",
    "#     if y_pred > 0.5:\n",
    "#         y_pred = 1\n",
    "#     else:\n",
    "#         y_pred = 0\n",
    "#     y_pred_vec.append(y_pred)\n",
    "# acc2 = accuracy_score(y_test, y_pred_vec)\n",
    "# print acc2"
   ]
  }
 ],
 "metadata": {
  "anaconda-cloud": {},
  "kernelspec": {
   "display_name": "Python [Root]",
   "language": "python",
   "name": "Python [Root]"
  },
  "language_info": {
   "codemirror_mode": {
    "name": "ipython",
    "version": 2
   },
   "file_extension": ".py",
   "mimetype": "text/x-python",
   "name": "python",
   "nbconvert_exporter": "python",
   "pygments_lexer": "ipython2",
   "version": "2.7.13"
  }
 },
 "nbformat": 4,
 "nbformat_minor": 0
}
